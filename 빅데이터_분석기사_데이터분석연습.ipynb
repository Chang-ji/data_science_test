{
 "cells": [
  {
   "cell_type": "code",
   "execution_count": 1,
   "id": "f4b5bd38",
   "metadata": {},
   "outputs": [],
   "source": [
    "import pandas as pd"
   ]
  },
  {
   "cell_type": "code",
   "execution_count": 25,
   "id": "7fc3366c",
   "metadata": {},
   "outputs": [],
   "source": [
    "X_train = pd.read_csv('data/x_train.csv')"
   ]
  },
  {
   "cell_type": "code",
   "execution_count": 26,
   "id": "b97864d7",
   "metadata": {},
   "outputs": [],
   "source": [
    "X_test = pd.read_csv('data/x_test.csv')"
   ]
  },
  {
   "cell_type": "code",
   "execution_count": 27,
   "id": "3ddeecda",
   "metadata": {},
   "outputs": [],
   "source": [
    "y_train = pd.read_csv('data/y_train.csv')"
   ]
  },
  {
   "cell_type": "code",
   "execution_count": 28,
   "id": "d7c323e8",
   "metadata": {},
   "outputs": [
    {
     "name": "stdout",
     "output_type": "stream",
     "text": [
      "      cust_id  gender\n",
      "0           0       0\n",
      "1           1       0\n",
      "2           2       1\n",
      "3           3       1\n",
      "4           4       0\n",
      "...       ...     ...\n",
      "3495     3495       1\n",
      "3496     3496       1\n",
      "3497     3497       0\n",
      "3498     3498       0\n",
      "3499     3499       0\n",
      "\n",
      "[3500 rows x 2 columns]\n"
     ]
    }
   ],
   "source": [
    "print(y_train)"
   ]
  },
  {
   "cell_type": "code",
   "execution_count": 29,
   "id": "756ec81f",
   "metadata": {},
   "outputs": [
    {
     "name": "stdout",
     "output_type": "stream",
     "text": [
      "      cust_id       총구매액     최대구매액       환불금액   주구매상품 주구매지점  내점일수   내점당구매건수  \\\n",
      "0           0   68282840  11264000  6860000.0      기타   강남점    19  3.894737   \n",
      "1           1    2136000   2136000   300000.0     스포츠   잠실점     2  1.500000   \n",
      "2           2    3197000   1639000        NaN  남성 캐주얼   관악점     2  2.000000   \n",
      "3           3   16077620   4935000        NaN      기타   광주점    18  2.444444   \n",
      "4           4   29050000  24000000        NaN      보석  본  점     2  1.500000   \n",
      "...       ...        ...       ...        ...     ...   ...   ...       ...   \n",
      "3495     3495    3175200   3042900        NaN      골프  본  점     1  2.000000   \n",
      "3496     3496   29628600   7200000  6049600.0    시티웨어  부산본점     8  1.625000   \n",
      "3497     3497      75000     75000        NaN    주방용품   창원점     1  1.000000   \n",
      "3498     3498    1875000   1000000        NaN     화장품  본  점     2  1.000000   \n",
      "3499     3499  263101550  34632000  5973000.0      기타  본  점    38  2.421053   \n",
      "\n",
      "        주말방문비율  구매주기  \n",
      "0     0.527027    17  \n",
      "1     0.000000     1  \n",
      "2     0.000000     1  \n",
      "3     0.318182    16  \n",
      "4     0.000000    85  \n",
      "...        ...   ...  \n",
      "3495  1.000000     0  \n",
      "3496  0.461538    40  \n",
      "3497  0.000000     0  \n",
      "3498  0.000000    39  \n",
      "3499  0.467391     8  \n",
      "\n",
      "[3500 rows x 10 columns]\n"
     ]
    }
   ],
   "source": [
    "print(X_train)"
   ]
  },
  {
   "cell_type": "code",
   "execution_count": 30,
   "id": "4e462138",
   "metadata": {},
   "outputs": [
    {
     "name": "stdout",
     "output_type": "stream",
     "text": [
      "                 0         1        2         3         4\n",
      "cust_id          0         1        2         3         4\n",
      "총구매액      68282840   2136000  3197000  16077620  29050000\n",
      "최대구매액     11264000   2136000  1639000   4935000  24000000\n",
      "환불금액     6860000.0  300000.0      NaN       NaN       NaN\n",
      "주구매상품           기타       스포츠   남성 캐주얼        기타        보석\n",
      "주구매지점          강남점       잠실점      관악점       광주점      본  점\n",
      "내점일수            19         2        2        18         2\n",
      "내점당구매건수   3.894737       1.5      2.0  2.444444       1.5\n",
      "주말방문비율    0.527027       0.0      0.0  0.318182       0.0\n",
      "구매주기            17         1        1        16        85\n"
     ]
    }
   ],
   "source": [
    "# 말 줄임표로 확인이 어려운 데이터를 확인하는 방법\n",
    "print(X_train.head().T)"
   ]
  },
  {
   "cell_type": "code",
   "execution_count": 31,
   "id": "6f12a1b5",
   "metadata": {},
   "outputs": [],
   "source": [
    "# 전체 칼럼을 출력하는 옵션 설정하기\n",
    "pd.options.display.max_columns = None"
   ]
  },
  {
   "cell_type": "code",
   "execution_count": 32,
   "id": "334c4c7f",
   "metadata": {},
   "outputs": [
    {
     "name": "stdout",
     "output_type": "stream",
     "text": [
      "      cust_id       총구매액     최대구매액       환불금액   주구매상품 주구매지점  내점일수   내점당구매건수  \\\n",
      "0           0   68282840  11264000  6860000.0      기타   강남점    19  3.894737   \n",
      "1           1    2136000   2136000   300000.0     스포츠   잠실점     2  1.500000   \n",
      "2           2    3197000   1639000        NaN  남성 캐주얼   관악점     2  2.000000   \n",
      "3           3   16077620   4935000        NaN      기타   광주점    18  2.444444   \n",
      "4           4   29050000  24000000        NaN      보석  본  점     2  1.500000   \n",
      "...       ...        ...       ...        ...     ...   ...   ...       ...   \n",
      "3495     3495    3175200   3042900        NaN      골프  본  점     1  2.000000   \n",
      "3496     3496   29628600   7200000  6049600.0    시티웨어  부산본점     8  1.625000   \n",
      "3497     3497      75000     75000        NaN    주방용품   창원점     1  1.000000   \n",
      "3498     3498    1875000   1000000        NaN     화장품  본  점     2  1.000000   \n",
      "3499     3499  263101550  34632000  5973000.0      기타  본  점    38  2.421053   \n",
      "\n",
      "        주말방문비율  구매주기  \n",
      "0     0.527027    17  \n",
      "1     0.000000     1  \n",
      "2     0.000000     1  \n",
      "3     0.318182    16  \n",
      "4     0.000000    85  \n",
      "...        ...   ...  \n",
      "3495  1.000000     0  \n",
      "3496  0.461538    40  \n",
      "3497  0.000000     0  \n",
      "3498  0.000000    39  \n",
      "3499  0.467391     8  \n",
      "\n",
      "[3500 rows x 10 columns]\n"
     ]
    }
   ],
   "source": [
    "print(X_train)"
   ]
  },
  {
   "cell_type": "code",
   "execution_count": 33,
   "id": "f11913a1",
   "metadata": {},
   "outputs": [
    {
     "name": "stdout",
     "output_type": "stream",
     "text": [
      "(3500, 10)\n",
      "(2482, 10)\n",
      "(3500, 2)\n"
     ]
    }
   ],
   "source": [
    "# 행렬 확인하기\n",
    "print(X_train.shape)\n",
    "print(X_test.shape)\n",
    "print(y_train.shape)"
   ]
  },
  {
   "cell_type": "code",
   "execution_count": 34,
   "id": "f9b8e507",
   "metadata": {},
   "outputs": [
    {
     "name": "stdout",
     "output_type": "stream",
     "text": [
      "<class 'pandas.core.frame.DataFrame'>\n",
      "RangeIndex: 3500 entries, 0 to 3499\n",
      "Data columns (total 10 columns):\n",
      " #   Column   Non-Null Count  Dtype  \n",
      "---  ------   --------------  -----  \n",
      " 0   cust_id  3500 non-null   int64  \n",
      " 1   총구매액     3500 non-null   int64  \n",
      " 2   최대구매액    3500 non-null   int64  \n",
      " 3   환불금액     1205 non-null   float64\n",
      " 4   주구매상품    3500 non-null   object \n",
      " 5   주구매지점    3500 non-null   object \n",
      " 6   내점일수     3500 non-null   int64  \n",
      " 7   내점당구매건수  3500 non-null   float64\n",
      " 8   주말방문비율   3500 non-null   float64\n",
      " 9   구매주기     3500 non-null   int64  \n",
      "dtypes: float64(3), int64(5), object(2)\n",
      "memory usage: 273.6+ KB\n",
      "None\n"
     ]
    }
   ],
   "source": [
    "# 요약 정보 확인하기\n",
    "print(X_train.info())"
   ]
  },
  {
   "cell_type": "code",
   "execution_count": 35,
   "id": "f41d7a1e",
   "metadata": {},
   "outputs": [
    {
     "name": "stdout",
     "output_type": "stream",
     "text": [
      "           cust_id          총구매액         최대구매액          환불금액         내점일수  \\\n",
      "count  3500.000000  3.500000e+03  3.500000e+03  1.205000e+03  3500.000000   \n",
      "mean   1749.500000  9.191925e+07  1.966424e+07  2.407822e+07    19.253714   \n",
      "std    1010.507298  1.635065e+08  3.199235e+07  4.746453e+07    27.174942   \n",
      "min       0.000000 -5.242152e+07 -2.992000e+06  5.600000e+03     1.000000   \n",
      "25%     874.750000  4.747050e+06  2.875000e+06  2.259000e+06     2.000000   \n",
      "50%    1749.500000  2.822270e+07  9.837000e+06  7.392000e+06     8.000000   \n",
      "75%    2624.250000  1.065079e+08  2.296250e+07  2.412000e+07    25.000000   \n",
      "max    3499.000000  2.323180e+09  7.066290e+08  5.637530e+08   285.000000   \n",
      "\n",
      "           내점당구매건수       주말방문비율         구매주기  \n",
      "count  3500.000000  3500.000000  3500.000000  \n",
      "mean      2.834963     0.307246    20.958286  \n",
      "std       1.912368     0.289752    24.748682  \n",
      "min       1.000000     0.000000     0.000000  \n",
      "25%       1.666667     0.027291     4.000000  \n",
      "50%       2.333333     0.256410    13.000000  \n",
      "75%       3.375000     0.448980    28.000000  \n",
      "max      22.083333     1.000000   166.000000  \n"
     ]
    }
   ],
   "source": [
    "# 기초 통계량 확인하기\n",
    "print(X_train.describe())\n",
    "# 평균값 범위를 확인 하였을 때 데이터 스케일링이 필요하다고 생각함"
   ]
  },
  {
   "cell_type": "code",
   "execution_count": 37,
   "id": "2cab5017",
   "metadata": {},
   "outputs": [],
   "source": [
    "# 불필요한 컬럼 삭제하기\n",
    "X_test_cust_id = X_test['cust_id']"
   ]
  },
  {
   "cell_type": "code",
   "execution_count": 38,
   "id": "a36e0c49",
   "metadata": {},
   "outputs": [],
   "source": [
    "X_train = X_train.drop(columns='cust_id')\n",
    "X_test = X_test.drop(columns='cust_id')\n",
    "y_train = y_train.drop(columns='cust_id')"
   ]
  },
  {
   "cell_type": "code",
   "execution_count": 42,
   "id": "d71e7fa7",
   "metadata": {},
   "outputs": [
    {
     "name": "stdout",
     "output_type": "stream",
     "text": [
      "총구매액          0\n",
      "최대구매액         0\n",
      "환불금액       2295\n",
      "주구매상품         0\n",
      "주구매지점         0\n",
      "내점일수          0\n",
      "내점당구매건수       0\n",
      "주말방문비율        0\n",
      "구매주기          0\n",
      "dtype: int64\n"
     ]
    }
   ],
   "source": [
    "# 결측치 처리하기\n",
    "print(X_train.isnull().sum())"
   ]
  },
  {
   "cell_type": "code",
   "execution_count": null,
   "id": "1d805011",
   "metadata": {},
   "outputs": [],
   "source": []
  }
 ],
 "metadata": {
  "kernelspec": {
   "display_name": "Python 3",
   "language": "python",
   "name": "python3"
  },
  "language_info": {
   "codemirror_mode": {
    "name": "ipython",
    "version": 3
   },
   "file_extension": ".py",
   "mimetype": "text/x-python",
   "name": "python",
   "nbconvert_exporter": "python",
   "pygments_lexer": "ipython3",
   "version": "3.8.8"
  }
 },
 "nbformat": 4,
 "nbformat_minor": 5
}
