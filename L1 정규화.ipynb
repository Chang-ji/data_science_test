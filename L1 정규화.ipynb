{
 "cells": [
  {
   "cell_type": "code",
   "execution_count": null,
   "id": "98ca4a1f",
   "metadata": {},
   "outputs": [],
   "source": [
    "from sklearn.linear_model import Lasso\n",
    "from sklearn.model_selection import train_test_split\n",
    "from sklearn.metrics import mean_squared_error\n",
    "from sklearn.preprocessing import PolynomialFeatures\n",
    "from math import sqrt\n",
    "\n",
    "import numpy as np\n",
    "import pandas as pd"
   ]
  },
  {
   "cell_type": "code",
   "execution_count": null,
   "id": "58046f5e",
   "metadata": {},
   "outputs": [],
   "source": [
    "# 데이터 파일 경로 정의\n",
    "INSURANCE_FILE_PATH = './datasets/insurance.csv'\n",
    "\n",
    "insurance_df = pd.read_csv(INSURANCE_FILE_PATH)  # 데이터를 pandas dataframe으로 갖고 온다 (insurance_df.head()를 사용해서 데이터를 한 번 살펴보세요!)\n",
    "insurance_df = pd.get_dummies(data=insurance_df, columns=['sex', 'smoker', 'region'])  # 필요한 열들에 One-hot Encoding을 해준다"
   ]
  },
  {
   "cell_type": "code",
   "execution_count": null,
   "id": "1d5bb676",
   "metadata": {},
   "outputs": [],
   "source": [
    "# 입력 변수 데이터를 따로 새로운 dataframe에 저장\n",
    "X = insurance_df.drop(['charges'], axis=1)\n",
    "\n",
    "polynomial_transformer = PolynomialFeatures(4)  # 4 차항 변형기를 정의\n",
    "polynomial_features = polynomial_transformer.fit_transform(X.values)  #  4차 항 변수로 변환\n",
    "\n",
    "features = polynomial_transformer.get_feature_names(X.columns)  # 새로운 변수 이름들 생성\n",
    "\n",
    "X = pd.DataFrame(polynomial_features, columns=features)  # 다항 입력 변수를 dataframe으로 만들어 준다\n",
    "y = insurance_df[['charges']]  # 목표 변수 정의"
   ]
  },
  {
   "cell_type": "code",
   "execution_count": null,
   "id": "0f3035a4",
   "metadata": {},
   "outputs": [],
   "source": [
    "# 여기 코드를 쓰세요\n",
    "X_train, X_test, y_train, y_test = train_test_split(X, y, test_size = 0.3, random_state = 5)\n",
    "model = Lasso(alpha = 1, max_iter = 2000, normalize = True)\n",
    "model.fit(X_train, y_train)\n",
    "y_train_predict = model.predict(X_train)\n",
    "y_test_predict = model.predict(X_test)"
   ]
  },
  {
   "cell_type": "code",
   "execution_count": null,
   "id": "cd997fbc",
   "metadata": {},
   "outputs": [],
   "source": [
    "# 체점용 코드\n",
    "mse = mean_squared_error(y_train, y_train_predict)\n",
    "\n",
    "print(\"training set에서 성능\")\n",
    "print(\"-----------------------\")\n",
    "print(f'오차: {sqrt(mse)}')\n",
    "\n",
    "mse = mean_squared_error(y_test, y_test_predict)\n",
    "\n",
    "print(\"testing set에서 성능\")\n",
    "print(\"-----------------------\")\n",
    "print(f'오차: {sqrt(mse)}')"
   ]
  }
 ],
 "metadata": {
  "kernelspec": {
   "display_name": "Python 3",
   "language": "python",
   "name": "python3"
  },
  "language_info": {
   "codemirror_mode": {
    "name": "ipython",
    "version": 3
   },
   "file_extension": ".py",
   "mimetype": "text/x-python",
   "name": "python",
   "nbconvert_exporter": "python",
   "pygments_lexer": "ipython3",
   "version": "3.8.8"
  }
 },
 "nbformat": 4,
 "nbformat_minor": 5
}
