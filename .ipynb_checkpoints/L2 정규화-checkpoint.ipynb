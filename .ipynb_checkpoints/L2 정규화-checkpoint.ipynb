{
 "cells": [
  {
   "cell_type": "code",
   "execution_count": null,
   "id": "fdb3c00f",
   "metadata": {},
   "outputs": [],
   "source": [
    "from sklearn.linear_model import Ridge\n",
    "from sklearn.model_selection import train_test_split\n",
    "from sklearn.metrics import mean_squared_error\n",
    "from sklearn.preprocessing import PolynomialFeatures\n",
    "from math import sqrt\n",
    "\n",
    "import numpy as np\n",
    "import pandas as pd"
   ]
  },
  {
   "cell_type": "code",
   "execution_count": null,
   "id": "a407e084",
   "metadata": {},
   "outputs": [],
   "source": [
    "INSURANCE_FILE_PATH = './datasets/insurance.csv'\n",
    "\n",
    "insurance_df = pd.read_csv(INSURANCE_FILE_PATH)\n",
    "insurance_df = pd.get_dummies(data=insurance_df, columns=['sex', 'smoker', 'region'])"
   ]
  },
  {
   "cell_type": "code",
   "execution_count": null,
   "id": "74903126",
   "metadata": {},
   "outputs": [],
   "source": [
    "# 기존 데이터에서 입력 변수 데이터를 따로 저장한다\n",
    "X = insurance_df.drop(['charges'], axis=1)\n",
    "\n",
    "polynomial_transformer = PolynomialFeatures(4)  # 4 차항 변형기를 정의한다\n",
    "polynomial_features = polynomial_transformer.fit_transform(X.values)  # 데이터 6차 항 변수로 바꿔준다\n",
    "\n",
    "features = polynomial_transformer.get_feature_names(X.columns)  # 변수 이름들도 바꿔준다\n"
   ]
  },
  {
   "cell_type": "code",
   "execution_count": null,
   "id": "d953916d",
   "metadata": {},
   "outputs": [],
   "source": [
    "# 새롭게 만든 다항 입력 변수를 dataframe으로 만들어 준다\n",
    "X = pd.DataFrame(polynomial_features, columns=features)\n",
    "y = insurance_df[['charges']]"
   ]
  },
  {
   "cell_type": "code",
   "execution_count": null,
   "id": "01729320",
   "metadata": {},
   "outputs": [],
   "source": [
    "# 여기 코드를 쓰세요\n",
    "X_train, X_test, y_train, y_test = train_test_split(X, y, test_size=0.3, random_state=5)\n",
    "model = Ridge(alpha=0.01, max_iter=2000, nomalize=True)\n",
    "model.fit(X_train, y_train)\n",
    "y_train_predict = model.predict(X_train)\n",
    "y_test_predict = model.predict(X_test)"
   ]
  },
  {
   "cell_type": "code",
   "execution_count": null,
   "id": "1266d4ac",
   "metadata": {},
   "outputs": [],
   "source": [
    "# 체점용 코드\n",
    "mse = mean_squared_error(y_train, y_train_predict)\n",
    "\n",
    "print(\"training set에서 성능\")\n",
    "print(\"-----------------------\")\n",
    "print(f'오차: {sqrt(mse)}')\n",
    "\n",
    "mse = mean_squared_error(y_test, y_test_predict)\n",
    "\n",
    "print(\"testing set에서 성능\")\n",
    "print(\"-----------------------\")\n"
   ]
  }
 ],
 "metadata": {
  "kernelspec": {
   "display_name": "Python 3",
   "language": "python",
   "name": "python3"
  },
  "language_info": {
   "codemirror_mode": {
    "name": "ipython",
    "version": 3
   },
   "file_extension": ".py",
   "mimetype": "text/x-python",
   "name": "python",
   "nbconvert_exporter": "python",
   "pygments_lexer": "ipython3",
   "version": "3.8.8"
  }
 },
 "nbformat": 4,
 "nbformat_minor": 5
}
