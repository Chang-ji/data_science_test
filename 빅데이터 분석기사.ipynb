{
 "cells": [
  {
   "cell_type": "code",
   "execution_count": 1,
   "id": "fcadd00d",
   "metadata": {},
   "outputs": [],
   "source": [
    "import pandas as pd"
   ]
  },
  {
   "cell_type": "code",
   "execution_count": 2,
   "id": "dddf90c4",
   "metadata": {},
   "outputs": [],
   "source": [
    "data = pd.read_csv('data/mtcars.csv')"
   ]
  },
  {
   "cell_type": "code",
   "execution_count": 3,
   "id": "10b818e2",
   "metadata": {},
   "outputs": [
    {
     "name": "stdout",
     "output_type": "stream",
     "text": [
      "          Unnamed: 0   mpg  cyl   disp   hp  drat     wt   qsec  vs      am  \\\n",
      "0          Mazda RX4  21.0  6.0  160.0  110  3.90  2.620  16.46   0  manual   \n",
      "1      Mazda RX4 Wag  21.0  6.0  160.0  110  3.90  2.875  17.02   0  manual   \n",
      "2         Datsun 710  22.8  4.0  108.0   93  3.85  2.320  18.61   1  manual   \n",
      "3     Hornet 4 Drive  21.4  6.0  258.0  110  3.08  3.215   0.10   1    auto   \n",
      "4  Hornet Sportabout  18.7  8.0  360.0  175  3.15  3.440  17.02   0    auto   \n",
      "\n",
      "  gear  carb  \n",
      "0    4     4  \n",
      "1    4     4  \n",
      "2    4     1  \n",
      "3    3     1  \n",
      "4    3     2  \n"
     ]
    }
   ],
   "source": [
    "# 상위 데이터 5개 출력\n",
    "print(data.head(5))"
   ]
  },
  {
   "cell_type": "code",
   "execution_count": 4,
   "id": "788564ac",
   "metadata": {},
   "outputs": [
    {
     "name": "stdout",
     "output_type": "stream",
     "text": [
      "(32, 12)\n"
     ]
    }
   ],
   "source": [
    "# 데이터 모양 확인하기\n",
    "print(data.shape)"
   ]
  },
  {
   "cell_type": "code",
   "execution_count": 5,
   "id": "7bbf8be5",
   "metadata": {},
   "outputs": [
    {
     "name": "stdout",
     "output_type": "stream",
     "text": [
      "<class 'pandas.core.frame.DataFrame'>\n"
     ]
    }
   ],
   "source": [
    "# 데이터 타입 확인하기\n",
    "print(type(data))"
   ]
  },
  {
   "cell_type": "code",
   "execution_count": 6,
   "id": "f14efba0",
   "metadata": {},
   "outputs": [
    {
     "name": "stdout",
     "output_type": "stream",
     "text": [
      "Index(['Unnamed: 0', 'mpg', 'cyl', 'disp', 'hp', 'drat', 'wt', 'qsec', 'vs',\n",
      "       'am', 'gear', 'carb'],\n",
      "      dtype='object')\n"
     ]
    }
   ],
   "source": [
    "# 데이터의 열 확인 하기\n",
    "print(data.columns)"
   ]
  },
  {
   "cell_type": "code",
   "execution_count": 7,
   "id": "4615e014",
   "metadata": {},
   "outputs": [
    {
     "name": "stdout",
     "output_type": "stream",
     "text": [
      "             mpg        cyl        disp          hp       drat         wt  \\\n",
      "count  32.000000  30.000000   32.000000   32.000000  32.000000  32.000000   \n",
      "mean   20.090625   7.600000  230.721875  146.687500   3.596563   3.217250   \n",
      "std     6.026948   8.194195  123.938694   68.562868   0.534679   0.978457   \n",
      "min    10.400000   4.000000   71.100000   52.000000   2.760000   1.513000   \n",
      "25%    15.425000   4.000000  120.825000   96.500000   3.080000   2.581250   \n",
      "50%    19.200000   6.000000  196.300000  123.000000   3.695000   3.325000   \n",
      "75%    22.800000   8.000000  326.000000  180.000000   3.920000   3.610000   \n",
      "max    33.900000  50.000000  472.000000  335.000000   4.930000   5.424000   \n",
      "\n",
      "             qsec         vs     carb  \n",
      "count   31.000000  32.000000  32.0000  \n",
      "mean    19.866774   0.437500   2.8125  \n",
      "std     15.310469   0.504016   1.6152  \n",
      "min      0.100000   0.000000   1.0000  \n",
      "25%     16.785000   0.000000   2.0000  \n",
      "50%     17.600000   0.000000   2.0000  \n",
      "75%     18.755000   1.000000   4.0000  \n",
      "max    100.000000   1.000000   8.0000  \n"
     ]
    }
   ],
   "source": [
    "# 데이터 기초 통계량 구하기\n",
    "print(data.describe())"
   ]
  },
  {
   "cell_type": "code",
   "execution_count": 9,
   "id": "d2f6f3ac",
   "metadata": {},
   "outputs": [
    {
     "name": "stdout",
     "output_type": "stream",
     "text": [
      "count     32.000000\n",
      "mean     146.687500\n",
      "std       68.562868\n",
      "min       52.000000\n",
      "25%       96.500000\n",
      "50%      123.000000\n",
      "75%      180.000000\n",
      "max      335.000000\n",
      "Name: hp, dtype: float64\n"
     ]
    }
   ],
   "source": [
    "# hp 컬럼의 기초 통계량 구하기\n",
    "print(data['hp'].describe())"
   ]
  },
  {
   "cell_type": "code",
   "execution_count": 10,
   "id": "89361fe3",
   "metadata": {},
   "outputs": [
    {
     "name": "stdout",
     "output_type": "stream",
     "text": [
      "['manual' 'auto']\n"
     ]
    }
   ],
   "source": [
    "# 데이터의 중복 제거한 값 출력\n",
    "print(data['am'].unique())"
   ]
  },
  {
   "cell_type": "code",
   "execution_count": 11,
   "id": "6eb568a9",
   "metadata": {},
   "outputs": [
    {
     "name": "stdout",
     "output_type": "stream",
     "text": [
      "<class 'pandas.core.frame.DataFrame'>\n",
      "RangeIndex: 32 entries, 0 to 31\n",
      "Data columns (total 12 columns):\n",
      " #   Column      Non-Null Count  Dtype  \n",
      "---  ------      --------------  -----  \n",
      " 0   Unnamed: 0  32 non-null     object \n",
      " 1   mpg         32 non-null     float64\n",
      " 2   cyl         30 non-null     float64\n",
      " 3   disp        32 non-null     float64\n",
      " 4   hp          32 non-null     int64  \n",
      " 5   drat        32 non-null     float64\n",
      " 6   wt          32 non-null     float64\n",
      " 7   qsec        31 non-null     float64\n",
      " 8   vs          32 non-null     int64  \n",
      " 9   am          32 non-null     object \n",
      " 10  gear        32 non-null     object \n",
      " 11  carb        32 non-null     int64  \n",
      "dtypes: float64(6), int64(3), object(3)\n",
      "memory usage: 3.1+ KB\n",
      "None\n"
     ]
    }
   ],
   "source": [
    "# 데이터 요약정보 구하기\n",
    "print(data.info())"
   ]
  },
  {
   "cell_type": "code",
   "execution_count": 12,
   "id": "5ba7000b",
   "metadata": {},
   "outputs": [
    {
     "name": "stdout",
     "output_type": "stream",
     "text": [
      "           mpg       cyl      disp        hp      drat        wt      qsec  \\\n",
      "mpg   1.000000 -0.460227 -0.847551 -0.776168  0.681172 -0.867659  0.013668   \n",
      "cyl  -0.460227  1.000000  0.544876  0.323293 -0.372671  0.533690 -0.012755   \n",
      "disp -0.847551  0.544876  1.000000  0.790949 -0.710214  0.887980  0.181810   \n",
      "hp   -0.776168  0.323293  0.790949  1.000000 -0.448759  0.658748  0.010807   \n",
      "drat  0.681172 -0.372671 -0.710214 -0.448759  1.000000 -0.712441 -0.120283   \n",
      "wt   -0.867659  0.533690  0.887980  0.658748 -0.712441  1.000000  0.093900   \n",
      "qsec  0.013668 -0.012755  0.181810  0.010807 -0.120283  0.093900  1.000000   \n",
      "vs    0.664039 -0.323960 -0.710416 -0.723097  0.440278 -0.554916 -0.112146   \n",
      "carb -0.550925  0.239980  0.394977  0.749812 -0.090790  0.427606 -0.120312   \n",
      "\n",
      "            vs      carb  \n",
      "mpg   0.664039 -0.550925  \n",
      "cyl  -0.323960  0.239980  \n",
      "disp -0.710416  0.394977  \n",
      "hp   -0.723097  0.749812  \n",
      "drat  0.440278 -0.090790  \n",
      "wt   -0.554916  0.427606  \n",
      "qsec -0.112146 -0.120312  \n",
      "vs    1.000000 -0.569607  \n",
      "carb -0.569607  1.000000  \n"
     ]
    }
   ],
   "source": [
    "# 상관관계 구하기\n",
    "print(data.corr())"
   ]
  },
  {
   "cell_type": "code",
   "execution_count": 13,
   "id": "95fa1d1e",
   "metadata": {},
   "outputs": [
    {
     "name": "stdout",
     "output_type": "stream",
     "text": [
      "             Unnamed: 0   cyl   disp   hp  drat     wt    qsec  vs      am  \\\n",
      "0             Mazda RX4   6.0  160.0  110  3.90  2.620   16.46   0  manual   \n",
      "1         Mazda RX4 Wag   6.0  160.0  110  3.90  2.875   17.02   0  manual   \n",
      "2            Datsun 710   4.0  108.0   93  3.85  2.320   18.61   1  manual   \n",
      "3        Hornet 4 Drive   6.0  258.0  110  3.08  3.215    0.10   1    auto   \n",
      "4     Hornet Sportabout   8.0  360.0  175  3.15  3.440   17.02   0    auto   \n",
      "5               Valiant   6.0  225.0  105  2.76  3.460   20.22   1    auto   \n",
      "6            Duster 360   8.0  360.0  245  3.21  3.570   15.84   0    auto   \n",
      "7             Merc 240D   NaN  146.7   62  3.69  3.190   20.00   1    auto   \n",
      "8              Merc 230   4.0  140.8   95  3.92  3.150   22.90   1    auto   \n",
      "9              Merc 280   6.0  167.6  123  3.92  3.440   18.30   1    auto   \n",
      "10            Merc 280C   6.0  167.6  123  3.92  3.440     NaN   1    auto   \n",
      "11           Merc 450SE   8.0  275.8  180  3.07  4.070   17.40   0    auto   \n",
      "12           Merc 450SL   8.0  275.8  180  3.07  3.730   17.60   0    auto   \n",
      "13          Merc 450SLC   8.0  275.8  180  3.07  3.780   18.00   0    auto   \n",
      "14   Cadillac Fleetwood  50.0  472.0  205  2.93  5.250   17.98   0    auto   \n",
      "15  Lincoln Continental   8.0  460.0  215  3.00  5.424   17.82   0    auto   \n",
      "16    Chrysler Imperial   8.0  440.0  230  3.23  5.345   17.42   0    auto   \n",
      "17             Fiat 128   4.0   78.7   66  4.08  2.200   19.47   1  manual   \n",
      "18          Honda Civic   4.0   75.7   52  4.93  1.615   18.52   1  manual   \n",
      "19       Toyota Corolla   4.0   71.1   65  4.22  1.835   19.90   1  manual   \n",
      "20        Toyota Corona   4.0  120.1   97  3.70  2.465   20.01   1    auto   \n",
      "21     Dodge Challenger   8.0  318.0  150  2.76  3.520   16.87   0    auto   \n",
      "22          AMC Javelin   8.0  304.0  150  3.15  3.435   17.30   0    auto   \n",
      "23           Camaro Z28   8.0  350.0  245  3.73  3.840   15.41   0    auto   \n",
      "24     Pontiac Firebird   NaN  400.0  175  3.08  3.845  100.00   0    auto   \n",
      "25            Fiat X1-9   4.0   79.0   66  4.08  1.935   18.90   1  manual   \n",
      "26        Porsche 914-2   4.0  120.3   91  4.43  2.140   16.70   0  manual   \n",
      "27         Lotus Europa   4.0   95.1  113  3.77  1.513   16.90   1  manual   \n",
      "28       Ford Pantera L   8.0  351.0  264  4.22  3.170   14.50   0  manual   \n",
      "29         Ferrari Dino   6.0  145.0  175  3.62  2.770   15.50   0  manual   \n",
      "30        Maserati Bora   8.0  301.0  335  3.54  3.570   14.60   0  manual   \n",
      "31           Volvo 142E   4.0  121.0  109  4.11  2.780   18.60   1  manual   \n",
      "\n",
      "   gear  carb  \n",
      "0     4     4  \n",
      "1     4     4  \n",
      "2     4     1  \n",
      "3     3     1  \n",
      "4     3     2  \n",
      "5     3     1  \n",
      "6     3     4  \n",
      "7     4     2  \n",
      "8     4     2  \n",
      "9     4     4  \n",
      "10    4     4  \n",
      "11    3     3  \n",
      "12   *3     3  \n",
      "13    3     3  \n",
      "14    3     4  \n",
      "15    3     4  \n",
      "16    3     4  \n",
      "17    4     1  \n",
      "18    4     2  \n",
      "19    4     1  \n",
      "20    3     1  \n",
      "21    3     2  \n",
      "22    3     2  \n",
      "23    3     4  \n",
      "24    3     2  \n",
      "25    4     1  \n",
      "26    5     2  \n",
      "27    5     2  \n",
      "28   *5     4  \n",
      "29    5     6  \n",
      "30    5     8  \n",
      "31    4     2  \n"
     ]
    }
   ],
   "source": [
    "# 독립변수 만들기\n",
    "X = data.drop(columns='mpg')\n",
    "print(X)"
   ]
  },
  {
   "cell_type": "code",
   "execution_count": 14,
   "id": "f3521514",
   "metadata": {},
   "outputs": [
    {
     "name": "stdout",
     "output_type": "stream",
     "text": [
      "0     21.0\n",
      "1     21.0\n",
      "2     22.8\n",
      "3     21.4\n",
      "4     18.7\n",
      "5     18.1\n",
      "6     14.3\n",
      "7     24.4\n",
      "8     22.8\n",
      "9     19.2\n",
      "10    17.8\n",
      "11    16.4\n",
      "12    17.3\n",
      "13    15.2\n",
      "14    10.4\n",
      "15    10.4\n",
      "16    14.7\n",
      "17    32.4\n",
      "18    30.4\n",
      "19    33.9\n",
      "20    21.5\n",
      "21    15.5\n",
      "22    15.2\n",
      "23    13.3\n",
      "24    19.2\n",
      "25    27.3\n",
      "26    26.0\n",
      "27    30.4\n",
      "28    15.8\n",
      "29    19.7\n",
      "30    15.0\n",
      "31    21.4\n",
      "Name: mpg, dtype: float64\n"
     ]
    }
   ],
   "source": [
    "Y = data['mpg']\n",
    "print(Y)"
   ]
  },
  {
   "cell_type": "code",
   "execution_count": 17,
   "id": "3d88b819",
   "metadata": {},
   "outputs": [
    {
     "name": "stdout",
     "output_type": "stream",
     "text": [
      "          Unnamed: 0  cyl   disp   hp  drat     wt   qsec  vs      am gear  \\\n",
      "0          Mazda RX4  6.0  160.0  110  3.90  2.620  16.46   0  manual    4   \n",
      "1      Mazda RX4 Wag  6.0  160.0  110  3.90  2.875  17.02   0  manual    4   \n",
      "2         Datsun 710  4.0  108.0   93  3.85  2.320  18.61   1  manual    4   \n",
      "3     Hornet 4 Drive  6.0  258.0  110  3.08  3.215   0.10   1    auto    3   \n",
      "4  Hornet Sportabout  8.0  360.0  175  3.15  3.440  17.02   0    auto    3   \n",
      "\n",
      "   carb  \n",
      "0     4  \n",
      "1     4  \n",
      "2     1  \n",
      "3     1  \n",
      "4     2  \n",
      "   cyl   disp   hp  drat     wt   qsec  vs      am gear  carb\n",
      "0  6.0  160.0  110  3.90  2.620  16.46   0  manual    4     4\n",
      "1  6.0  160.0  110  3.90  2.875  17.02   0  manual    4     4\n",
      "2  4.0  108.0   93  3.85  2.320  18.61   1  manual    4     1\n",
      "3  6.0  258.0  110  3.08  3.215   0.10   1    auto    3     1\n",
      "4  8.0  360.0  175  3.15  3.440  17.02   0    auto    3     2\n"
     ]
    }
   ],
   "source": [
    "# 불필요한 열 삭제하기\n",
    "X = X.iloc[:, 1:]\n",
    "print(X.head())"
   ]
  },
  {
   "cell_type": "code",
   "execution_count": 27,
   "id": "764ba571",
   "metadata": {},
   "outputs": [
    {
     "name": "stdout",
     "output_type": "stream",
     "text": [
      "cyl     0\n",
      "disp    0\n",
      "hp      0\n",
      "drat    0\n",
      "wt      0\n",
      "qsec    0\n",
      "vs      0\n",
      "am      0\n",
      "gear    0\n",
      "carb    0\n",
      "dtype: int64\n"
     ]
    }
   ],
   "source": [
    "# 결측값 처리하기\n",
    "print(X.isnull().sum())"
   ]
  },
  {
   "cell_type": "code",
   "execution_count": 19,
   "id": "4af1fbce",
   "metadata": {},
   "outputs": [
    {
     "name": "stdout",
     "output_type": "stream",
     "text": [
      "7.6\n"
     ]
    }
   ],
   "source": [
    "# 평균값으로 대치하기\n",
    "X_mean = X['cyl'].mean()\n",
    "print(X_mean)"
   ]
  },
  {
   "cell_type": "code",
   "execution_count": 22,
   "id": "dff23bed",
   "metadata": {},
   "outputs": [],
   "source": [
    "X['cyl'] = X['cyl'].fillna(X_mean)"
   ]
  },
  {
   "cell_type": "code",
   "execution_count": 24,
   "id": "6fb16642",
   "metadata": {},
   "outputs": [],
   "source": [
    "# 중위 값으로 대체하기\n",
    "X_qsec_median = X['qsec'].median()"
   ]
  },
  {
   "cell_type": "code",
   "execution_count": 25,
   "id": "8b1d82bd",
   "metadata": {},
   "outputs": [
    {
     "name": "stdout",
     "output_type": "stream",
     "text": [
      "17.6\n"
     ]
    }
   ],
   "source": [
    "print(X_qsec_median)"
   ]
  },
  {
   "cell_type": "code",
   "execution_count": 26,
   "id": "5c3a1f93",
   "metadata": {},
   "outputs": [],
   "source": [
    "X['qsec'] = X['qsec'].fillna(X_qsec_median)"
   ]
  },
  {
   "cell_type": "code",
   "execution_count": 30,
   "id": "f26d8bae",
   "metadata": {},
   "outputs": [
    {
     "name": "stdout",
     "output_type": "stream",
     "text": [
      "['4' '3' '*3' '5' '*5']\n"
     ]
    }
   ],
   "source": [
    "print(X['gear'].unique())"
   ]
  },
  {
   "cell_type": "code",
   "execution_count": 37,
   "id": "855d82f1",
   "metadata": {},
   "outputs": [],
   "source": [
    "X['gear'] = X['gear'].replace('*3','3').replace('*5','5')"
   ]
  },
  {
   "cell_type": "code",
   "execution_count": 38,
   "id": "0a6b4f07",
   "metadata": {},
   "outputs": [
    {
     "name": "stdout",
     "output_type": "stream",
     "text": [
      "['4' '3' '5']\n"
     ]
    }
   ],
   "source": [
    "print(X['gear'].unique())"
   ]
  },
  {
   "cell_type": "code",
   "execution_count": 39,
   "id": "1a08e936",
   "metadata": {},
   "outputs": [],
   "source": [
    "# 이상값 처리하기\n",
    "X_describe = X.describe()"
   ]
  },
  {
   "cell_type": "code",
   "execution_count": 40,
   "id": "51fbe918",
   "metadata": {},
   "outputs": [
    {
     "name": "stdout",
     "output_type": "stream",
     "text": [
      "             cyl        disp          hp       drat         wt        qsec  \\\n",
      "count  32.000000   32.000000   32.000000  32.000000  32.000000   32.000000   \n",
      "mean    7.600000  230.721875  146.687500   3.596563   3.217250   19.795938   \n",
      "std     7.925459  123.938694   68.562868   0.534679   0.978457   15.066831   \n",
      "min     4.000000   71.100000   52.000000   2.760000   1.513000    0.100000   \n",
      "25%     4.000000  120.825000   96.500000   3.080000   2.581250   16.827500   \n",
      "50%     6.000000  196.300000  123.000000   3.695000   3.325000   17.600000   \n",
      "75%     8.000000  326.000000  180.000000   3.920000   3.610000   18.682500   \n",
      "max    50.000000  472.000000  335.000000   4.930000   5.424000  100.000000   \n",
      "\n",
      "              vs     carb  \n",
      "count  32.000000  32.0000  \n",
      "mean    0.437500   2.8125  \n",
      "std     0.504016   1.6152  \n",
      "min     0.000000   1.0000  \n",
      "25%     0.000000   2.0000  \n",
      "50%     0.000000   2.0000  \n",
      "75%     1.000000   4.0000  \n",
      "max     1.000000   8.0000  \n"
     ]
    }
   ],
   "source": [
    "print(X_describe)"
   ]
  },
  {
   "cell_type": "code",
   "execution_count": 41,
   "id": "913a990c",
   "metadata": {},
   "outputs": [
    {
     "name": "stdout",
     "output_type": "stream",
     "text": [
      "cyl       4.00000\n",
      "disp    120.82500\n",
      "hp       96.50000\n",
      "drat      3.08000\n",
      "wt        2.58125\n",
      "qsec     16.82750\n",
      "vs        0.00000\n",
      "carb      2.00000\n",
      "Name: 25%, dtype: float64 cyl       8.0000\n",
      "disp    326.0000\n",
      "hp      180.0000\n",
      "drat      3.9200\n",
      "wt        3.6100\n",
      "qsec     18.6825\n",
      "vs        1.0000\n",
      "carb      4.0000\n",
      "Name: 75%, dtype: float64\n"
     ]
    }
   ],
   "source": [
    "print(X_describe.loc['25%'], X_describe.loc['75%'])"
   ]
  },
  {
   "cell_type": "code",
   "execution_count": 42,
   "id": "b59cb2a2",
   "metadata": {},
   "outputs": [],
   "source": [
    "X_iqr =  X_describe.loc['75%'] -  X_describe.loc['25%']"
   ]
  },
  {
   "cell_type": "code",
   "execution_count": 43,
   "id": "de7b8d99",
   "metadata": {},
   "outputs": [
    {
     "name": "stdout",
     "output_type": "stream",
     "text": [
      "cyl       4.00000\n",
      "disp    205.17500\n",
      "hp       83.50000\n",
      "drat      0.84000\n",
      "wt        1.02875\n",
      "qsec      1.85500\n",
      "vs        1.00000\n",
      "carb      2.00000\n",
      "dtype: float64\n"
     ]
    }
   ],
   "source": [
    "print(X_iqr)"
   ]
  },
  {
   "cell_type": "code",
   "execution_count": 44,
   "id": "7a83511b",
   "metadata": {},
   "outputs": [],
   "source": [
    "X_q3_iqr = X_describe.loc['75%'] + 1.5 * X_iqr"
   ]
  },
  {
   "cell_type": "code",
   "execution_count": 45,
   "id": "335c9290",
   "metadata": {},
   "outputs": [
    {
     "name": "stdout",
     "output_type": "stream",
     "text": [
      "cyl      14.000000\n",
      "disp    633.762500\n",
      "hp      305.250000\n",
      "drat      5.180000\n",
      "wt        5.153125\n",
      "qsec     21.465000\n",
      "vs        2.500000\n",
      "carb      7.000000\n",
      "dtype: float64\n"
     ]
    }
   ],
   "source": [
    "print(X_q3_iqr)"
   ]
  },
  {
   "cell_type": "code",
   "execution_count": 46,
   "id": "b2176708",
   "metadata": {},
   "outputs": [],
   "source": [
    "X_q1_iqr = X_describe.loc['25%'] - 1.5 * X_iqr"
   ]
  },
  {
   "cell_type": "code",
   "execution_count": 47,
   "id": "ea922a59",
   "metadata": {},
   "outputs": [
    {
     "name": "stdout",
     "output_type": "stream",
     "text": [
      "cyl      -2.000000\n",
      "disp   -186.937500\n",
      "hp      -28.750000\n",
      "drat      1.820000\n",
      "wt        1.038125\n",
      "qsec     14.045000\n",
      "vs       -1.500000\n",
      "carb     -1.000000\n",
      "dtype: float64\n"
     ]
    }
   ],
   "source": [
    "print(X_q1_iqr)"
   ]
  },
  {
   "cell_type": "code",
   "execution_count": 51,
   "id": "cd0901db",
   "metadata": {},
   "outputs": [
    {
     "data": {
      "text/plain": [
       "cyl      50.000\n",
       "disp    472.000\n",
       "hp      335.000\n",
       "drat      4.930\n",
       "wt        5.424\n",
       "qsec    100.000\n",
       "vs        1.000\n",
       "carb      8.000\n",
       "Name: max, dtype: float64"
      ]
     },
     "execution_count": 51,
     "metadata": {},
     "output_type": "execute_result"
    }
   ],
   "source": [
    "X_describe.loc['max']"
   ]
  },
  {
   "cell_type": "code",
   "execution_count": 53,
   "id": "eac5bcd8",
   "metadata": {},
   "outputs": [],
   "source": [
    "X.loc[X['cyl'] > X_q3_iqr['cyl'],'cyl'] = X_q3_iqr['cyl']"
   ]
  },
  {
   "cell_type": "code",
   "execution_count": 55,
   "id": "fa8df729",
   "metadata": {},
   "outputs": [],
   "source": [
    "X.loc[X['hp'] > X_q3_iqr['hp'],'hp'] = X_q3_iqr['hp']"
   ]
  },
  {
   "cell_type": "code",
   "execution_count": 56,
   "id": "3e3b473b",
   "metadata": {},
   "outputs": [],
   "source": [
    "# 데이터(data)와 열(column)을 전달하면 이상값 정보가 출력되는 outlier() 만들기\n",
    "def outlier(data, column):\n",
    "    mean = data[column].mean()\n",
    "    std = data[column].std()\n",
    "    lowest = mean - 1.5 * std\n",
    "    highest = mean + 1.5 * std\n",
    "    print(f\"최소 경계값: '{lowest}' 최대 경계값: '{highest}'\")\n",
    "    outlier_index = data[column][(data[column] < lowest) | (data[column] > highest)].index\n",
    "    return outlier_index"
   ]
  },
  {
   "cell_type": "code",
   "execution_count": 57,
   "id": "b1553373",
   "metadata": {},
   "outputs": [
    {
     "name": "stdout",
     "output_type": "stream",
     "text": [
      "최소 경계값: '-2.8043094560577657' 최대 경계값: '42.39618445605777'\n",
      "Int64Index([24], dtype='int64')\n"
     ]
    }
   ],
   "source": [
    "# X 변수와 qsec 열을 전달하여 이상값 정보를 출력하기\n",
    "print(outlier(X, 'qsec'))"
   ]
  },
  {
   "cell_type": "code",
   "execution_count": 59,
   "id": "12737c6a",
   "metadata": {},
   "outputs": [],
   "source": [
    "X.loc[24, 'qsec'] = 42.39"
   ]
  },
  {
   "cell_type": "code",
   "execution_count": 60,
   "id": "eccc5e0b",
   "metadata": {},
   "outputs": [
    {
     "name": "stdout",
     "output_type": "stream",
     "text": [
      "최소 경계값: '0.3897000335522218' 최대 경계값: '5.235299966447778'\n",
      "Int64Index([29, 30], dtype='int64')\n"
     ]
    }
   ],
   "source": [
    "print(outlier(X, 'carb'))"
   ]
  },
  {
   "cell_type": "code",
   "execution_count": 63,
   "id": "20e199c0",
   "metadata": {},
   "outputs": [],
   "source": [
    "X.loc[[29,30],'carb'] = 5.235"
   ]
  },
  {
   "cell_type": "code",
   "execution_count": 65,
   "id": "d4bacf96",
   "metadata": {},
   "outputs": [],
   "source": [
    "from sklearn.preprocessing import MinMaxScaler"
   ]
  },
  {
   "cell_type": "code",
   "execution_count": 72,
   "id": "e59aa086",
   "metadata": {
    "scrolled": true
   },
   "outputs": [
    {
     "name": "stdout",
     "output_type": "stream",
     "text": [
      "['__class__', '__delattr__', '__dict__', '__dir__', '__doc__', '__eq__', '__format__', '__ge__', '__getattribute__', '__getstate__', '__gt__', '__hash__', '__init__', '__init_subclass__', '__le__', '__lt__', '__module__', '__ne__', '__new__', '__reduce__', '__reduce_ex__', '__repr__', '__setattr__', '__setstate__', '__sizeof__', '__str__', '__subclasshook__', '__weakref__', '_check_n_features', '_get_param_names', '_get_tags', '_more_tags', '_repr_html_', '_repr_html_inner', '_repr_mimebundle_', '_reset', '_validate_data', 'clip', 'copy', 'feature_range', 'fit', 'fit_transform', 'get_params', 'inverse_transform', 'partial_fit', 'set_params', 'transform']\n"
     ]
    }
   ],
   "source": [
    "minmax_scaler = MinMaxScaler()\n",
    "print(dir(minmax_scaler))"
   ]
  },
  {
   "cell_type": "code",
   "execution_count": 73,
   "id": "678970eb",
   "metadata": {},
   "outputs": [
    {
     "name": "stdout",
     "output_type": "stream",
     "text": [
      "<class 'pandas.core.series.Series'>\n"
     ]
    }
   ],
   "source": [
    "print(type(X['qsec']))"
   ]
  },
  {
   "cell_type": "code",
   "execution_count": 74,
   "id": "d738ea95",
   "metadata": {},
   "outputs": [
    {
     "name": "stdout",
     "output_type": "stream",
     "text": [
      "<class 'pandas.core.frame.DataFrame'>\n"
     ]
    }
   ],
   "source": [
    "print(type(X[['qsec']]))"
   ]
  },
  {
   "cell_type": "code",
   "execution_count": 78,
   "id": "2debf2c6",
   "metadata": {},
   "outputs": [
    {
     "name": "stdout",
     "output_type": "stream",
     "text": [
      "<class 'numpy.ndarray'>\n"
     ]
    }
   ],
   "source": [
    "temp = X[['qsec']]\n",
    "q_sec_scaler = minmax_scaler.fit_transform(temp)\n",
    "print(type(q_sec_scaler))"
   ]
  },
  {
   "cell_type": "code",
   "execution_count": 79,
   "id": "3cb3454e",
   "metadata": {},
   "outputs": [],
   "source": [
    "q_sec_scaler = pd.DataFrame(q_sec_scaler)"
   ]
  },
  {
   "cell_type": "code",
   "execution_count": 80,
   "id": "bd227bd5",
   "metadata": {},
   "outputs": [
    {
     "name": "stdout",
     "output_type": "stream",
     "text": [
      "           0\n",
      "0   0.386853\n",
      "1   0.400095\n",
      "2   0.437692\n",
      "3   0.000000\n",
      "4   0.400095\n",
      "5   0.475763\n",
      "6   0.372192\n",
      "7   0.470560\n",
      "8   0.539135\n",
      "9   0.430362\n",
      "10  0.413809\n",
      "11  0.409080\n",
      "12  0.413809\n",
      "13  0.423268\n",
      "14  0.422795\n",
      "15  0.419012\n",
      "16  0.409553\n",
      "17  0.458028\n",
      "18  0.435564\n",
      "19  0.468196\n",
      "20  0.470797\n",
      "21  0.396548\n",
      "22  0.406716\n",
      "23  0.362024\n",
      "24  1.000000\n",
      "25  0.444550\n",
      "26  0.392528\n",
      "27  0.397257\n",
      "28  0.340506\n",
      "29  0.364152\n",
      "30  0.342871\n",
      "31  0.437456\n"
     ]
    }
   ],
   "source": [
    "print(q_sec_scaler)"
   ]
  },
  {
   "cell_type": "code",
   "execution_count": 81,
   "id": "b82ebb7c",
   "metadata": {},
   "outputs": [],
   "source": [
    "# 로버스트 크기변환\n",
    "from sklearn.preprocessing import RobustScaler\n",
    "\n",
    "robu_scaler = RobustScaler()"
   ]
  },
  {
   "cell_type": "code",
   "execution_count": 84,
   "id": "01733b7c",
   "metadata": {},
   "outputs": [],
   "source": [
    "qsec_r_scaler = pd.DataFrame(robu_scaler.fit_transform(X[['qsec']])) "
   ]
  },
  {
   "cell_type": "code",
   "execution_count": 85,
   "id": "17f18cf2",
   "metadata": {},
   "outputs": [
    {
     "name": "stdout",
     "output_type": "stream",
     "text": [
      "            0\n",
      "0   -0.614555\n",
      "1   -0.312668\n",
      "2    0.544474\n",
      "3   -9.433962\n",
      "4   -0.312668\n",
      "5    1.412399\n",
      "6   -0.948787\n",
      "7    1.293801\n",
      "8    2.857143\n",
      "9    0.377358\n",
      "10   0.000000\n",
      "11  -0.107817\n",
      "12   0.000000\n",
      "13   0.215633\n",
      "14   0.204852\n",
      "15   0.118598\n",
      "16  -0.097035\n",
      "17   1.008086\n",
      "18   0.495957\n",
      "19   1.239892\n",
      "20   1.299191\n",
      "21  -0.393531\n",
      "22  -0.161725\n",
      "23  -1.180593\n",
      "24  13.363881\n",
      "25   0.700809\n",
      "26  -0.485175\n",
      "27  -0.377358\n",
      "28  -1.671159\n",
      "29  -1.132075\n",
      "30  -1.617251\n",
      "31   0.539084\n"
     ]
    }
   ],
   "source": [
    "print(qsec_r_scaler)"
   ]
  },
  {
   "cell_type": "code",
   "execution_count": 88,
   "id": "bf37a3f0",
   "metadata": {},
   "outputs": [
    {
     "name": "stdout",
     "output_type": "stream",
     "text": [
      "<class 'pandas.core.frame.DataFrame'>\n",
      "RangeIndex: 32 entries, 0 to 31\n",
      "Data columns (total 10 columns):\n",
      " #   Column  Non-Null Count  Dtype  \n",
      "---  ------  --------------  -----  \n",
      " 0   cyl     32 non-null     float64\n",
      " 1   disp    32 non-null     float64\n",
      " 2   hp      32 non-null     float64\n",
      " 3   drat    32 non-null     float64\n",
      " 4   wt      32 non-null     float64\n",
      " 5   qsec    32 non-null     float64\n",
      " 6   vs      32 non-null     int64  \n",
      " 7   am      32 non-null     object \n",
      " 8   gear    32 non-null     int64  \n",
      " 9   carb    32 non-null     float64\n",
      "dtypes: float64(7), int64(2), object(1)\n",
      "memory usage: 2.6+ KB\n",
      "None\n"
     ]
    }
   ],
   "source": [
    "# 데이터 타입 변경하기\n",
    "print(X.info())"
   ]
  },
  {
   "cell_type": "code",
   "execution_count": 87,
   "id": "e651e904",
   "metadata": {},
   "outputs": [],
   "source": [
    "X['gear'] = X['gear'].astype('int64')"
   ]
  },
  {
   "cell_type": "code",
   "execution_count": 89,
   "id": "8f979fa4",
   "metadata": {},
   "outputs": [
    {
     "name": "stdout",
     "output_type": "stream",
     "text": [
      "   cyl   disp     hp  drat     wt   qsec  vs      am  gear  carb\n",
      "0  6.0  160.0  110.0  3.90  2.620  16.46   0  manual     4   4.0\n",
      "1  6.0  160.0  110.0  3.90  2.875  17.02   0  manual     4   4.0\n",
      "2  4.0  108.0   93.0  3.85  2.320  18.61   1  manual     4   1.0\n",
      "3  6.0  258.0  110.0  3.08  3.215   0.10   1    auto     3   1.0\n",
      "4  8.0  360.0  175.0  3.15  3.440  17.02   0    auto     3   2.0\n"
     ]
    }
   ],
   "source": [
    "# 범주형을 수치형으로 인코딩 하기\n",
    "print(X.head())"
   ]
  },
  {
   "cell_type": "code",
   "execution_count": 97,
   "id": "413275d4",
   "metadata": {},
   "outputs": [
    {
     "name": "stdout",
     "output_type": "stream",
     "text": [
      "    manual\n",
      "0        1\n",
      "1        1\n",
      "2        1\n",
      "3        0\n",
      "4        0\n",
      "5        0\n",
      "6        0\n",
      "7        0\n",
      "8        0\n",
      "9        0\n",
      "10       0\n",
      "11       0\n",
      "12       0\n",
      "13       0\n",
      "14       0\n",
      "15       0\n",
      "16       0\n",
      "17       1\n",
      "18       1\n",
      "19       1\n",
      "20       0\n",
      "21       0\n",
      "22       0\n",
      "23       0\n",
      "24       0\n",
      "25       1\n",
      "26       1\n",
      "27       1\n",
      "28       1\n",
      "29       1\n",
      "30       1\n",
      "31       1\n"
     ]
    }
   ],
   "source": [
    "print(pd.get_dummies(X['am'], drop_first = True))"
   ]
  },
  {
   "cell_type": "code",
   "execution_count": 100,
   "id": "d974340d",
   "metadata": {},
   "outputs": [
    {
     "name": "stdout",
     "output_type": "stream",
     "text": [
      "     cyl   disp      hp  drat     wt   qsec  vs  gear   carb  am_manual\n",
      "0    6.0  160.0  110.00  3.90  2.620  16.46   0     4  4.000          1\n",
      "1    6.0  160.0  110.00  3.90  2.875  17.02   0     4  4.000          1\n",
      "2    4.0  108.0   93.00  3.85  2.320  18.61   1     4  1.000          1\n",
      "3    6.0  258.0  110.00  3.08  3.215   0.10   1     3  1.000          0\n",
      "4    8.0  360.0  175.00  3.15  3.440  17.02   0     3  2.000          0\n",
      "5    6.0  225.0  105.00  2.76  3.460  20.22   1     3  1.000          0\n",
      "6    8.0  360.0  245.00  3.21  3.570  15.84   0     3  4.000          0\n",
      "7    7.6  146.7   62.00  3.69  3.190  20.00   1     4  2.000          0\n",
      "8    4.0  140.8   95.00  3.92  3.150  22.90   1     4  2.000          0\n",
      "9    6.0  167.6  123.00  3.92  3.440  18.30   1     4  4.000          0\n",
      "10   6.0  167.6  123.00  3.92  3.440  17.60   1     4  4.000          0\n",
      "11   8.0  275.8  180.00  3.07  4.070  17.40   0     3  3.000          0\n",
      "12   8.0  275.8  180.00  3.07  3.730  17.60   0     3  3.000          0\n",
      "13   8.0  275.8  180.00  3.07  3.780  18.00   0     3  3.000          0\n",
      "14  14.0  472.0  205.00  2.93  5.250  17.98   0     3  4.000          0\n",
      "15   8.0  460.0  215.00  3.00  5.424  17.82   0     3  4.000          0\n",
      "16   8.0  440.0  230.00  3.23  5.345  17.42   0     3  4.000          0\n",
      "17   4.0   78.7   66.00  4.08  2.200  19.47   1     4  1.000          1\n",
      "18   4.0   75.7   52.00  4.93  1.615  18.52   1     4  2.000          1\n",
      "19   4.0   71.1   65.00  4.22  1.835  19.90   1     4  1.000          1\n",
      "20   4.0  120.1   97.00  3.70  2.465  20.01   1     3  1.000          0\n",
      "21   8.0  318.0  150.00  2.76  3.520  16.87   0     3  2.000          0\n",
      "22   8.0  304.0  150.00  3.15  3.435  17.30   0     3  2.000          0\n",
      "23   8.0  350.0  245.00  3.73  3.840  15.41   0     3  4.000          0\n",
      "24   7.6  400.0  175.00  3.08  3.845  42.39   0     3  2.000          0\n",
      "25   4.0   79.0   66.00  4.08  1.935  18.90   1     4  1.000          1\n",
      "26   4.0  120.3   91.00  4.43  2.140  16.70   0     5  2.000          1\n",
      "27   4.0   95.1  113.00  3.77  1.513  16.90   1     5  2.000          1\n",
      "28   8.0  351.0  264.00  4.22  3.170  14.50   0     5  4.000          1\n",
      "29   6.0  145.0  175.00  3.62  2.770  15.50   0     5  5.235          1\n",
      "30   8.0  301.0  305.25  3.54  3.570  14.60   0     5  5.235          1\n",
      "31   4.0  121.0  109.00  4.11  2.780  18.60   1     4  2.000          1\n"
     ]
    }
   ],
   "source": [
    "# X 변수의 전체열 대상으로 원핫 인코딩 수행\n",
    "print(pd.get_dummies(X, drop_first=True))"
   ]
  },
  {
   "cell_type": "code",
   "execution_count": 101,
   "id": "ac7c2f29",
   "metadata": {},
   "outputs": [],
   "source": [
    "from sklearn.preprocessing import LabelEncoder"
   ]
  },
  {
   "cell_type": "code",
   "execution_count": 102,
   "id": "9d0d02af",
   "metadata": {},
   "outputs": [
    {
     "name": "stdout",
     "output_type": "stream",
     "text": [
      "     cyl   disp      hp  drat     wt   qsec  vs      am  gear   carb\n",
      "0    6.0  160.0  110.00  3.90  2.620  16.46   0  manual     4  4.000\n",
      "1    6.0  160.0  110.00  3.90  2.875  17.02   0  manual     4  4.000\n",
      "2    4.0  108.0   93.00  3.85  2.320  18.61   1  manual     4  1.000\n",
      "3    6.0  258.0  110.00  3.08  3.215   0.10   1    auto     3  1.000\n",
      "4    8.0  360.0  175.00  3.15  3.440  17.02   0    auto     3  2.000\n",
      "5    6.0  225.0  105.00  2.76  3.460  20.22   1    auto     3  1.000\n",
      "6    8.0  360.0  245.00  3.21  3.570  15.84   0    auto     3  4.000\n",
      "7    7.6  146.7   62.00  3.69  3.190  20.00   1    auto     4  2.000\n",
      "8    4.0  140.8   95.00  3.92  3.150  22.90   1    auto     4  2.000\n",
      "9    6.0  167.6  123.00  3.92  3.440  18.30   1    auto     4  4.000\n",
      "10   6.0  167.6  123.00  3.92  3.440  17.60   1    auto     4  4.000\n",
      "11   8.0  275.8  180.00  3.07  4.070  17.40   0    auto     3  3.000\n",
      "12   8.0  275.8  180.00  3.07  3.730  17.60   0    auto     3  3.000\n",
      "13   8.0  275.8  180.00  3.07  3.780  18.00   0    auto     3  3.000\n",
      "14  14.0  472.0  205.00  2.93  5.250  17.98   0    auto     3  4.000\n",
      "15   8.0  460.0  215.00  3.00  5.424  17.82   0    auto     3  4.000\n",
      "16   8.0  440.0  230.00  3.23  5.345  17.42   0    auto     3  4.000\n",
      "17   4.0   78.7   66.00  4.08  2.200  19.47   1  manual     4  1.000\n",
      "18   4.0   75.7   52.00  4.93  1.615  18.52   1  manual     4  2.000\n",
      "19   4.0   71.1   65.00  4.22  1.835  19.90   1  manual     4  1.000\n",
      "20   4.0  120.1   97.00  3.70  2.465  20.01   1    auto     3  1.000\n",
      "21   8.0  318.0  150.00  2.76  3.520  16.87   0    auto     3  2.000\n",
      "22   8.0  304.0  150.00  3.15  3.435  17.30   0    auto     3  2.000\n",
      "23   8.0  350.0  245.00  3.73  3.840  15.41   0    auto     3  4.000\n",
      "24   7.6  400.0  175.00  3.08  3.845  42.39   0    auto     3  2.000\n",
      "25   4.0   79.0   66.00  4.08  1.935  18.90   1  manual     4  1.000\n",
      "26   4.0  120.3   91.00  4.43  2.140  16.70   0  manual     5  2.000\n",
      "27   4.0   95.1  113.00  3.77  1.513  16.90   1  manual     5  2.000\n",
      "28   8.0  351.0  264.00  4.22  3.170  14.50   0  manual     5  4.000\n",
      "29   6.0  145.0  175.00  3.62  2.770  15.50   0  manual     5  5.235\n",
      "30   8.0  301.0  305.25  3.54  3.570  14.60   0  manual     5  5.235\n",
      "31   4.0  121.0  109.00  4.11  2.780  18.60   1  manual     4  2.000\n"
     ]
    }
   ],
   "source": [
    "print(X)"
   ]
  },
  {
   "cell_type": "code",
   "execution_count": 103,
   "id": "f7f941ce",
   "metadata": {},
   "outputs": [],
   "source": [
    "label_encoder = LabelEncoder()"
   ]
  },
  {
   "cell_type": "code",
   "execution_count": 105,
   "id": "98849605",
   "metadata": {},
   "outputs": [
    {
     "name": "stdout",
     "output_type": "stream",
     "text": [
      "[1 1 1 0 0 0 0 0 0 0 0 0 0 0 0 0 0 1 1 1 0 0 0 0 0 1 1 1 1 1 1 1]\n"
     ]
    }
   ],
   "source": [
    "print(label_encoder.fit_transform(X['am']))"
   ]
  },
  {
   "cell_type": "code",
   "execution_count": 106,
   "id": "655ff8de",
   "metadata": {},
   "outputs": [],
   "source": [
    "X['am_new'] = X['am'].replace('manual', 0).replace('auto', 1)"
   ]
  },
  {
   "cell_type": "code",
   "execution_count": 107,
   "id": "a6074820",
   "metadata": {},
   "outputs": [
    {
     "name": "stdout",
     "output_type": "stream",
     "text": [
      "   cyl   disp     hp  drat     wt   qsec  vs      am  gear  carb  am_new\n",
      "0  6.0  160.0  110.0  3.90  2.620  16.46   0  manual     4   4.0       0\n",
      "1  6.0  160.0  110.0  3.90  2.875  17.02   0  manual     4   4.0       0\n",
      "2  4.0  108.0   93.0  3.85  2.320  18.61   1  manual     4   1.0       0\n",
      "3  6.0  258.0  110.0  3.08  3.215   0.10   1    auto     3   1.0       1\n",
      "4  8.0  360.0  175.0  3.15  3.440  17.02   0    auto     3   2.0       1\n"
     ]
    }
   ],
   "source": [
    "print(X.head())"
   ]
  },
  {
   "cell_type": "code",
   "execution_count": 111,
   "id": "03ce1b2d",
   "metadata": {},
   "outputs": [],
   "source": [
    "X.drop(columns=['am'], inplace=True)"
   ]
  },
  {
   "cell_type": "code",
   "execution_count": 112,
   "id": "e253e4d0",
   "metadata": {},
   "outputs": [
    {
     "name": "stdout",
     "output_type": "stream",
     "text": [
      "   cyl   disp     hp  drat     wt   qsec  vs  gear  carb  am_new\n",
      "0  6.0  160.0  110.0  3.90  2.620  16.46   0     4   4.0       0\n",
      "1  6.0  160.0  110.0  3.90  2.875  17.02   0     4   4.0       0\n",
      "2  4.0  108.0   93.0  3.85  2.320  18.61   1     4   1.0       0\n",
      "3  6.0  258.0  110.0  3.08  3.215   0.10   1     3   1.0       1\n",
      "4  8.0  360.0  175.0  3.15  3.440  17.02   0     3   2.0       1\n"
     ]
    }
   ],
   "source": [
    "print(X.head())"
   ]
  },
  {
   "cell_type": "code",
   "execution_count": 113,
   "id": "62641c28",
   "metadata": {},
   "outputs": [],
   "source": [
    "condition = X['wt'] < 3.3"
   ]
  },
  {
   "cell_type": "code",
   "execution_count": 114,
   "id": "78fe76d9",
   "metadata": {},
   "outputs": [],
   "source": [
    "X.loc[condition, 'wt_class'] = 0\n",
    "X.loc[-condition, 'wt_class'] = 1"
   ]
  },
  {
   "cell_type": "code",
   "execution_count": 115,
   "id": "8816bf37",
   "metadata": {},
   "outputs": [],
   "source": [
    "X = X.drop(columns=['wt'])"
   ]
  },
  {
   "cell_type": "code",
   "execution_count": 116,
   "id": "dd8d53c0",
   "metadata": {},
   "outputs": [
    {
     "name": "stdout",
     "output_type": "stream",
     "text": [
      "   cyl   disp     hp  drat   qsec  vs  gear  carb  am_new  wt_class\n",
      "0  6.0  160.0  110.0  3.90  16.46   0     4   4.0       0       0.0\n",
      "1  6.0  160.0  110.0  3.90  17.02   0     4   4.0       0       0.0\n",
      "2  4.0  108.0   93.0  3.85  18.61   1     4   1.0       0       0.0\n",
      "3  6.0  258.0  110.0  3.08   0.10   1     3   1.0       1       0.0\n",
      "4  8.0  360.0  175.0  3.15  17.02   0     3   2.0       1       1.0\n"
     ]
    }
   ],
   "source": [
    "print(X.head(5))"
   ]
  },
  {
   "cell_type": "code",
   "execution_count": 117,
   "id": "85936733",
   "metadata": {},
   "outputs": [],
   "source": [
    "X['qsec_4'] = X['qsec'] * 4"
   ]
  },
  {
   "cell_type": "code",
   "execution_count": 118,
   "id": "3c6fe412",
   "metadata": {},
   "outputs": [],
   "source": [
    "X = X.drop(columns=['qsec'])"
   ]
  },
  {
   "cell_type": "code",
   "execution_count": 119,
   "id": "5e6553f7",
   "metadata": {},
   "outputs": [
    {
     "name": "stdout",
     "output_type": "stream",
     "text": [
      "   cyl   disp     hp  drat  vs  gear  carb  am_new  wt_class  qsec_4\n",
      "0  6.0  160.0  110.0  3.90   0     4   4.0       0       0.0   65.84\n",
      "1  6.0  160.0  110.0  3.90   0     4   4.0       0       0.0   68.08\n",
      "2  4.0  108.0   93.0  3.85   1     4   1.0       0       0.0   74.44\n",
      "3  6.0  258.0  110.0  3.08   1     3   1.0       1       0.0    0.40\n",
      "4  8.0  360.0  175.0  3.15   0     3   2.0       1       1.0   68.08\n"
     ]
    }
   ],
   "source": [
    "print(X.head())"
   ]
  },
  {
   "cell_type": "code",
   "execution_count": 120,
   "id": "28bf9b7e",
   "metadata": {},
   "outputs": [],
   "source": [
    "# 데이터 분리를 위해 train_test_split 가져오기\n",
    "from sklearn.model_selection import train_test_split"
   ]
  },
  {
   "cell_type": "code",
   "execution_count": 122,
   "id": "8907a975",
   "metadata": {},
   "outputs": [],
   "source": [
    "X_train, X_test, y_train, y_test = train_test_split(X, Y, test_size = 0.3, random_state = 10)"
   ]
  },
  {
   "cell_type": "code",
   "execution_count": 123,
   "id": "9e0422b8",
   "metadata": {},
   "outputs": [
    {
     "name": "stdout",
     "output_type": "stream",
     "text": [
      "     cyl   disp     hp  drat  vs  gear  carb  am_new  wt_class  qsec_4\n",
      "19   4.0   71.1   65.0  4.22   1     4   1.0       0       0.0   79.60\n",
      "14  14.0  472.0  205.0  2.93   0     3   4.0       1       1.0   71.92\n",
      "18   4.0   75.7   52.0  4.93   1     4   2.0       0       0.0   74.08\n",
      "6    8.0  360.0  245.0  3.21   0     3   4.0       1       1.0   63.36\n",
      "11   8.0  275.8  180.0  3.07   0     3   3.0       1       1.0   69.60\n"
     ]
    }
   ],
   "source": [
    "print(X_train.head())"
   ]
  },
  {
   "cell_type": "code",
   "execution_count": 125,
   "id": "9fe0d385",
   "metadata": {},
   "outputs": [],
   "source": [
    "# 선형 회귀\n",
    "from sklearn.linear_model import LinearRegression"
   ]
  },
  {
   "cell_type": "code",
   "execution_count": 126,
   "id": "41eeeff6",
   "metadata": {},
   "outputs": [],
   "source": [
    "linear_model = LinearRegression()"
   ]
  },
  {
   "cell_type": "code",
   "execution_count": 127,
   "id": "888fa9eb",
   "metadata": {},
   "outputs": [
    {
     "data": {
      "text/plain": [
       "LinearRegression()"
      ]
     },
     "execution_count": 127,
     "metadata": {},
     "output_type": "execute_result"
    }
   ],
   "source": [
    "linear_model.fit(X_train, y_train)"
   ]
  },
  {
   "cell_type": "code",
   "execution_count": 128,
   "id": "347d7c75",
   "metadata": {},
   "outputs": [],
   "source": [
    "y_train_predicted = linear_model.predict(X_train)"
   ]
  },
  {
   "cell_type": "code",
   "execution_count": 129,
   "id": "8fba0618",
   "metadata": {},
   "outputs": [],
   "source": [
    "y_test_predicted = linear_model.predict(X_test)"
   ]
  },
  {
   "cell_type": "code",
   "execution_count": 131,
   "id": "34fe4de9",
   "metadata": {},
   "outputs": [
    {
     "name": "stdout",
     "output_type": "stream",
     "text": [
      "24.269653372472302\n"
     ]
    }
   ],
   "source": [
    "# 선형회귀 모델 도출된 y절편\n",
    "print(linear_model.intercept_)"
   ]
  },
  {
   "cell_type": "code",
   "execution_count": 133,
   "id": "2db72545",
   "metadata": {},
   "outputs": [
    {
     "name": "stdout",
     "output_type": "stream",
     "text": [
      "[-0.1380698  -0.0123123  -0.00409046  0.96664161  1.12294294  0.6573785\n",
      " -1.97459024 -3.57955411  0.01942586  0.02390252]\n"
     ]
    }
   ],
   "source": [
    "# 회귀계수의 값\n",
    "print(linear_model.coef_)"
   ]
  },
  {
   "cell_type": "code",
   "execution_count": 134,
   "id": "b47b21d1",
   "metadata": {},
   "outputs": [
    {
     "name": "stdout",
     "output_type": "stream",
     "text": [
      "0.9063058611093414\n"
     ]
    }
   ],
   "source": [
    "# 선형회귀 분석 결정계수\n",
    "print(linear_model.score(X_train, y_train))"
   ]
  },
  {
   "cell_type": "code",
   "execution_count": 135,
   "id": "b6e3e6cb",
   "metadata": {},
   "outputs": [
    {
     "name": "stdout",
     "output_type": "stream",
     "text": [
      "0.10180696102037068\n"
     ]
    }
   ],
   "source": [
    "print(linear_model.score(X_test, y_test))"
   ]
  },
  {
   "cell_type": "code",
   "execution_count": 140,
   "id": "9bfcad64",
   "metadata": {},
   "outputs": [],
   "source": [
    "# 결정계수를 계산하는 r2_score 함수 가져오기\n",
    "from sklearn.metrics import r2_score\n",
    "from sklearn.metrics import mean_squared_error\n",
    "from sklearn.metrics import mean_absolute_error"
   ]
  },
  {
   "cell_type": "code",
   "execution_count": 144,
   "id": "1f270371",
   "metadata": {},
   "outputs": [
    {
     "name": "stdout",
     "output_type": "stream",
     "text": [
      "0.9063058611093414\n",
      "0.10180696102037068\n"
     ]
    }
   ],
   "source": [
    "print(r2_score(y_train, y_train_predicted))\n",
    "print(r2_score(y_test, y_test_predicted))"
   ]
  },
  {
   "cell_type": "code",
   "execution_count": 145,
   "id": "c351d074",
   "metadata": {},
   "outputs": [
    {
     "name": "stdout",
     "output_type": "stream",
     "text": [
      "4.333843688509886\n",
      "8.922649649223636\n"
     ]
    }
   ],
   "source": [
    "print(mean_squared_error(y_train, y_train_predicted))\n",
    "print(mean_squared_error(y_test, y_test_predicted))"
   ]
  },
  {
   "cell_type": "code",
   "execution_count": 146,
   "id": "d2dacc83",
   "metadata": {},
   "outputs": [
    {
     "name": "stdout",
     "output_type": "stream",
     "text": [
      "1.5690807565331868\n",
      "2.374125002950884\n"
     ]
    }
   ],
   "source": [
    "print(mean_absolute_error(y_train, y_train_predicted))\n",
    "print(mean_absolute_error(y_test, y_test_predicted))"
   ]
  },
  {
   "cell_type": "code",
   "execution_count": 150,
   "id": "d9aca40e",
   "metadata": {},
   "outputs": [],
   "source": [
    "# 랜덤 포레스트 회귀\n",
    "from sklearn.ensemble import RandomForestRegressor"
   ]
  },
  {
   "cell_type": "code",
   "execution_count": 160,
   "id": "81111fd0",
   "metadata": {},
   "outputs": [],
   "source": [
    "random_model = RandomForestRegressor(n_estimators = 1000,random_state = 10)"
   ]
  },
  {
   "cell_type": "code",
   "execution_count": 161,
   "id": "e8e9a764",
   "metadata": {},
   "outputs": [
    {
     "data": {
      "text/plain": [
       "RandomForestRegressor(n_estimators=1000, random_state=10)"
      ]
     },
     "execution_count": 161,
     "metadata": {},
     "output_type": "execute_result"
    }
   ],
   "source": [
    "random_model.fit(X_train, y_train)"
   ]
  },
  {
   "cell_type": "code",
   "execution_count": 162,
   "id": "8f577c8d",
   "metadata": {},
   "outputs": [],
   "source": [
    "y_train_predicted = random_model.predict(X_train)\n",
    "y_test_predicted = random_model.predict(X_test)"
   ]
  },
  {
   "cell_type": "code",
   "execution_count": 163,
   "id": "c1eef004",
   "metadata": {},
   "outputs": [
    {
     "name": "stdout",
     "output_type": "stream",
     "text": [
      "0.9813964830314067\n",
      "0.4537697887054528\n"
     ]
    }
   ],
   "source": [
    "print(r2_score(y_train, y_train_predicted))\n",
    "print(r2_score(y_test, y_test_predicted))"
   ]
  },
  {
   "cell_type": "code",
   "execution_count": 164,
   "id": "1f53a8c7",
   "metadata": {},
   "outputs": [
    {
     "name": "stdout",
     "output_type": "stream",
     "text": [
      "0.8605099054543238\n",
      "5.426250919000031\n"
     ]
    }
   ],
   "source": [
    "print(mean_squared_error(y_train, y_train_predicted))\n",
    "print(mean_squared_error(y_test, y_test_predicted))"
   ]
  },
  {
   "cell_type": "code",
   "execution_count": 165,
   "id": "0951d368",
   "metadata": {},
   "outputs": [
    {
     "name": "stdout",
     "output_type": "stream",
     "text": [
      "0.7476818181816907\n",
      "1.7763700000000309\n"
     ]
    }
   ],
   "source": [
    "print(mean_absolute_error(y_train, y_train_predicted))\n",
    "print(mean_absolute_error(y_test, y_test_predicted))"
   ]
  },
  {
   "cell_type": "code",
   "execution_count": 168,
   "id": "fcb2f56a",
   "metadata": {},
   "outputs": [],
   "source": [
    "from sklearn.ensemble import GradientBoostingRegressor"
   ]
  },
  {
   "cell_type": "code",
   "execution_count": 169,
   "id": "d8f38c1d",
   "metadata": {},
   "outputs": [],
   "source": [
    "gradient_model = GradientBoostingRegressor(random_state = 10)"
   ]
  },
  {
   "cell_type": "code",
   "execution_count": 170,
   "id": "5a375612",
   "metadata": {},
   "outputs": [
    {
     "data": {
      "text/plain": [
       "GradientBoostingRegressor(random_state=10)"
      ]
     },
     "execution_count": 170,
     "metadata": {},
     "output_type": "execute_result"
    }
   ],
   "source": [
    "gradient_model.fit(X_train, y_train)"
   ]
  },
  {
   "cell_type": "code",
   "execution_count": 171,
   "id": "b7605229",
   "metadata": {},
   "outputs": [],
   "source": [
    "y_train_predicted = gradient_model.predict(X_train)\n",
    "y_test_predicted = gradient_model.predict(X_test)"
   ]
  },
  {
   "cell_type": "code",
   "execution_count": 172,
   "id": "08305cb0",
   "metadata": {},
   "outputs": [
    {
     "name": "stdout",
     "output_type": "stream",
     "text": [
      "0.9999908554215274\n",
      "0.1559551191323465\n",
      "0.000422984555559304\n",
      "8.384741846539269\n",
      "0.015838715073726996\n",
      "2.1754887773282503\n"
     ]
    }
   ],
   "source": [
    "print(r2_score(y_train, y_train_predicted))\n",
    "print(r2_score(y_test, y_test_predicted))\n",
    "print(mean_squared_error(y_train, y_train_predicted))\n",
    "print(mean_squared_error(y_test, y_test_predicted))\n",
    "print(mean_absolute_error(y_train, y_train_predicted))\n",
    "print(mean_absolute_error(y_test, y_test_predicted))"
   ]
  },
  {
   "cell_type": "code",
   "execution_count": 174,
   "id": "4888a2b4",
   "metadata": {},
   "outputs": [],
   "source": [
    "# 분류 모델링 수행\n",
    "X_train2 = X_train.drop(columns='am_new')"
   ]
  },
  {
   "cell_type": "code",
   "execution_count": 175,
   "id": "36ea518d",
   "metadata": {},
   "outputs": [],
   "source": [
    "y_train2 = X_train['am_new']"
   ]
  },
  {
   "cell_type": "code",
   "execution_count": 176,
   "id": "b513e378",
   "metadata": {},
   "outputs": [],
   "source": [
    "X_test2 = X_test.drop(columns='am_new')"
   ]
  },
  {
   "cell_type": "code",
   "execution_count": 177,
   "id": "02d0bc0f",
   "metadata": {},
   "outputs": [],
   "source": [
    "y_test2 = X_test['am_new']"
   ]
  },
  {
   "cell_type": "code",
   "execution_count": 178,
   "id": "307f0c71",
   "metadata": {},
   "outputs": [
    {
     "name": "stdout",
     "output_type": "stream",
     "text": [
      "19    0\n",
      "14    1\n",
      "18    0\n",
      "6     1\n",
      "11    1\n",
      "Name: am_new, dtype: int64\n"
     ]
    }
   ],
   "source": [
    "print(y_train2.head())"
   ]
  },
  {
   "cell_type": "code",
   "execution_count": 179,
   "id": "98fe4248",
   "metadata": {},
   "outputs": [
    {
     "name": "stdout",
     "output_type": "stream",
     "text": [
      "     cyl   disp     hp  drat  vs  gear  carb  wt_class  qsec_4\n",
      "19   4.0   71.1   65.0  4.22   1     4   1.0       0.0   79.60\n",
      "14  14.0  472.0  205.0  2.93   0     3   4.0       1.0   71.92\n",
      "18   4.0   75.7   52.0  4.93   1     4   2.0       0.0   74.08\n",
      "6    8.0  360.0  245.0  3.21   0     3   4.0       1.0   63.36\n",
      "11   8.0  275.8  180.0  3.07   0     3   3.0       1.0   69.60\n"
     ]
    }
   ],
   "source": [
    "print(X_train2.head())"
   ]
  },
  {
   "cell_type": "code",
   "execution_count": 182,
   "id": "e6983d40",
   "metadata": {},
   "outputs": [],
   "source": [
    "from sklearn.tree import DecisionTreeClassifier"
   ]
  },
  {
   "cell_type": "code",
   "execution_count": 183,
   "id": "253523c0",
   "metadata": {},
   "outputs": [],
   "source": [
    "decision_model = DecisionTreeClassifier()"
   ]
  },
  {
   "cell_type": "code",
   "execution_count": 184,
   "id": "51cee545",
   "metadata": {},
   "outputs": [
    {
     "data": {
      "text/plain": [
       "DecisionTreeClassifier()"
      ]
     },
     "execution_count": 184,
     "metadata": {},
     "output_type": "execute_result"
    }
   ],
   "source": [
    "decision_model.fit(X_train2, y_train2)"
   ]
  },
  {
   "cell_type": "code",
   "execution_count": 190,
   "id": "3ea637f3",
   "metadata": {},
   "outputs": [],
   "source": [
    "y_test2_predict = decision_model.predict(X_test2)"
   ]
  },
  {
   "cell_type": "code",
   "execution_count": 195,
   "id": "7779b887",
   "metadata": {},
   "outputs": [],
   "source": [
    "from sklearn.metrics import precision_score, roc_auc_score, recall_score, accuracy_score"
   ]
  },
  {
   "cell_type": "code",
   "execution_count": 193,
   "id": "101b580a",
   "metadata": {},
   "outputs": [
    {
     "name": "stdout",
     "output_type": "stream",
     "text": [
      "0.8571428571428572\n"
     ]
    }
   ],
   "source": [
    "# 테스트 데이터의 ROC_AUC 구하기\n",
    "print(roc_auc_score(y_test2, y_test2_predict))"
   ]
  },
  {
   "cell_type": "code",
   "execution_count": 196,
   "id": "abb470d5",
   "metadata": {},
   "outputs": [
    {
     "name": "stdout",
     "output_type": "stream",
     "text": [
      "0.8\n"
     ]
    }
   ],
   "source": [
    "# 테스트 데이터의 정확도 구하기\n",
    "print(accuracy_score(y_test2, y_test2_predict))"
   ]
  },
  {
   "cell_type": "code",
   "execution_count": 197,
   "id": "e89ed4a3",
   "metadata": {},
   "outputs": [
    {
     "name": "stdout",
     "output_type": "stream",
     "text": [
      "1.0\n"
     ]
    }
   ],
   "source": [
    "# 테스트 데이터의 정밀도 구하기\n",
    "print(precision_score(y_test2, y_test2_predict))"
   ]
  },
  {
   "cell_type": "code",
   "execution_count": 198,
   "id": "eecf4d50",
   "metadata": {},
   "outputs": [
    {
     "name": "stdout",
     "output_type": "stream",
     "text": [
      "0.7142857142857143\n"
     ]
    }
   ],
   "source": [
    "# 테스트 데이터의 재현율 구하기\n",
    "print(recall_score(y_test2, y_test2_predict))"
   ]
  },
  {
   "cell_type": "code",
   "execution_count": 200,
   "id": "219fb5cb",
   "metadata": {},
   "outputs": [],
   "source": [
    "# from xgboost import XGBClassifier"
   ]
  },
  {
   "cell_type": "code",
   "execution_count": 203,
   "id": "bafa8ebf",
   "metadata": {},
   "outputs": [],
   "source": [
    "# 랜덤 포레스트\n",
    "from sklearn.ensemble import RandomForestClassifier"
   ]
  },
  {
   "cell_type": "code",
   "execution_count": 204,
   "id": "5baf6489",
   "metadata": {},
   "outputs": [],
   "source": [
    "random_model = RandomForestClassifier()"
   ]
  },
  {
   "cell_type": "code",
   "execution_count": 205,
   "id": "8449231b",
   "metadata": {},
   "outputs": [
    {
     "data": {
      "text/plain": [
       "RandomForestClassifier()"
      ]
     },
     "execution_count": 205,
     "metadata": {},
     "output_type": "execute_result"
    }
   ],
   "source": [
    "random_model.fit(X_train2, y_train2)"
   ]
  },
  {
   "cell_type": "code",
   "execution_count": 206,
   "id": "6d86514a",
   "metadata": {},
   "outputs": [],
   "source": [
    "y_test2_predicted = random_model.predict(X_test2)"
   ]
  },
  {
   "cell_type": "code",
   "execution_count": 207,
   "id": "a21f14b1",
   "metadata": {},
   "outputs": [
    {
     "name": "stdout",
     "output_type": "stream",
     "text": [
      "0.8571428571428572\n"
     ]
    }
   ],
   "source": [
    "# 테스트 데이터의 ROC_AUC 구하기\n",
    "print(roc_auc_score(y_test2, y_test2_predicted))"
   ]
  },
  {
   "cell_type": "code",
   "execution_count": 212,
   "id": "971bfbb0",
   "metadata": {},
   "outputs": [
    {
     "name": "stdout",
     "output_type": "stream",
     "text": [
      "     cyl   disp      hp  drat  vs  gear   carb  wt_class  qsec_4  am_new\n",
      "19   4.0   71.1   65.00  4.22   1     4  1.000       0.0   79.60       0\n",
      "14  14.0  472.0  205.00  2.93   0     3  4.000       1.0   71.92       1\n",
      "18   4.0   75.7   52.00  4.93   1     4  2.000       0.0   74.08       0\n",
      "6    8.0  360.0  245.00  3.21   0     3  4.000       1.0   63.36       1\n",
      "11   8.0  275.8  180.00  3.07   0     3  3.000       1.0   69.60       1\n",
      "23   8.0  350.0  245.00  3.73   0     3  4.000       1.0   61.64       1\n",
      "24   7.6  400.0  175.00  3.08   0     3  2.000       1.0  169.56       1\n",
      "30   8.0  301.0  305.25  3.54   0     5  5.235       1.0   58.40       0\n",
      "22   8.0  304.0  150.00  3.15   0     3  2.000       1.0   69.20       1\n",
      "10   6.0  167.6  123.00  3.92   1     4  4.000       1.0   70.40       1\n",
      "27   4.0   95.1  113.00  3.77   1     5  2.000       0.0   67.60       0\n",
      "31   4.0  121.0  109.00  4.11   1     4  2.000       0.0   74.40       0\n",
      "8    4.0  140.8   95.00  3.92   1     4  2.000       0.0   91.60       1\n",
      "26   4.0  120.3   91.00  4.43   0     5  2.000       0.0   66.80       0\n",
      "16   8.0  440.0  230.00  3.23   0     3  4.000       1.0   69.68       1\n",
      "25   4.0   79.0   66.00  4.08   1     4  1.000       0.0   75.60       0\n",
      "17   4.0   78.7   66.00  4.08   1     4  1.000       0.0   77.88       0\n",
      "0    6.0  160.0  110.00  3.90   0     4  4.000       0.0   65.84       0\n",
      "15   8.0  460.0  215.00  3.00   0     3  4.000       1.0   71.28       1\n",
      "4    8.0  360.0  175.00  3.15   0     3  2.000       1.0   68.08       1\n",
      "29   6.0  145.0  175.00  3.62   0     5  5.235       0.0   62.00       0\n",
      "9    6.0  167.6  123.00  3.92   1     4  4.000       1.0   73.20       1\n"
     ]
    }
   ],
   "source": [
    "print(pd.concat([X_train2, y_train2], axis = 1))"
   ]
  },
  {
   "cell_type": "code",
   "execution_count": 213,
   "id": "acd0cc9c",
   "metadata": {},
   "outputs": [
    {
     "name": "stdout",
     "output_type": "stream",
     "text": [
      "(32, 10)\n"
     ]
    }
   ],
   "source": [
    "print(X.shape)"
   ]
  },
  {
   "cell_type": "code",
   "execution_count": 214,
   "id": "34611761",
   "metadata": {},
   "outputs": [],
   "source": [
    "# 로지스틱 회귀\n",
    "from sklearn.linear_model import LogisticRegression"
   ]
  },
  {
   "cell_type": "code",
   "execution_count": 219,
   "id": "db283f9b",
   "metadata": {},
   "outputs": [],
   "source": [
    "model = LogisticRegression()"
   ]
  },
  {
   "cell_type": "code",
   "execution_count": 220,
   "id": "91e3f27b",
   "metadata": {},
   "outputs": [
    {
     "name": "stderr",
     "output_type": "stream",
     "text": [
      "C:\\Users\\PC\\anaconda3\\lib\\site-packages\\sklearn\\linear_model\\_logistic.py:763: ConvergenceWarning: lbfgs failed to converge (status=1):\n",
      "STOP: TOTAL NO. of ITERATIONS REACHED LIMIT.\n",
      "\n",
      "Increase the number of iterations (max_iter) or scale the data as shown in:\n",
      "    https://scikit-learn.org/stable/modules/preprocessing.html\n",
      "Please also refer to the documentation for alternative solver options:\n",
      "    https://scikit-learn.org/stable/modules/linear_model.html#logistic-regression\n",
      "  n_iter_i = _check_optimize_result(\n"
     ]
    },
    {
     "data": {
      "text/plain": [
       "LogisticRegression()"
      ]
     },
     "execution_count": 220,
     "metadata": {},
     "output_type": "execute_result"
    }
   ],
   "source": [
    "model.fit(X_train2, y_train2)"
   ]
  },
  {
   "cell_type": "code",
   "execution_count": 221,
   "id": "7e69321f",
   "metadata": {},
   "outputs": [],
   "source": [
    "y_test2_predicted = model.predict(X_test2)"
   ]
  },
  {
   "cell_type": "code",
   "execution_count": 222,
   "id": "d8d17b43",
   "metadata": {},
   "outputs": [
    {
     "name": "stdout",
     "output_type": "stream",
     "text": [
      "0.7619047619047621\n"
     ]
    }
   ],
   "source": [
    "# 테스트 데이터의 ROC_AUC 구하기\n",
    "print(roc_auc_score(y_test2, y_test2_predicted))"
   ]
  },
  {
   "cell_type": "code",
   "execution_count": 223,
   "id": "a7ab7e28",
   "metadata": {},
   "outputs": [],
   "source": [
    "# 서포트 벡터 분류\n",
    "from sklearn.svm import SVC"
   ]
  },
  {
   "cell_type": "code",
   "execution_count": 225,
   "id": "0dfb87c6",
   "metadata": {},
   "outputs": [],
   "source": [
    "svc_model = SVC()"
   ]
  },
  {
   "cell_type": "code",
   "execution_count": 226,
   "id": "c481827a",
   "metadata": {},
   "outputs": [
    {
     "data": {
      "text/plain": [
       "SVC()"
      ]
     },
     "execution_count": 226,
     "metadata": {},
     "output_type": "execute_result"
    }
   ],
   "source": [
    "svc_model.fit(X_train2, y_train2)"
   ]
  },
  {
   "cell_type": "code",
   "execution_count": 227,
   "id": "da35bd40",
   "metadata": {},
   "outputs": [],
   "source": [
    "y_test2_predicted = svc_model.predict(X_test2)"
   ]
  },
  {
   "cell_type": "code",
   "execution_count": 228,
   "id": "2b3eea5e",
   "metadata": {},
   "outputs": [
    {
     "name": "stdout",
     "output_type": "stream",
     "text": [
      "0.6904761904761906\n"
     ]
    }
   ],
   "source": [
    "# 테스트 데이터의 ROC_AUC 구하기\n",
    "print(roc_auc_score(y_test2, y_test2_predicted))"
   ]
  },
  {
   "cell_type": "code",
   "execution_count": 230,
   "id": "e1aed657",
   "metadata": {},
   "outputs": [],
   "source": [
    "# 배깅 분류\n",
    "from sklearn.ensemble import BaggingClassifier"
   ]
  },
  {
   "cell_type": "code",
   "execution_count": 231,
   "id": "a561c58e",
   "metadata": {},
   "outputs": [],
   "source": [
    "bagging_model = BaggingClassifier()"
   ]
  },
  {
   "cell_type": "code",
   "execution_count": 232,
   "id": "90dc9860",
   "metadata": {},
   "outputs": [
    {
     "data": {
      "text/plain": [
       "BaggingClassifier()"
      ]
     },
     "execution_count": 232,
     "metadata": {},
     "output_type": "execute_result"
    }
   ],
   "source": [
    "bagging_model.fit(X_train2, y_train2)"
   ]
  },
  {
   "cell_type": "code",
   "execution_count": 233,
   "id": "5d9c3cca",
   "metadata": {},
   "outputs": [],
   "source": [
    "y_test2_predicted = bagging_model.predict(X_test2)"
   ]
  },
  {
   "cell_type": "code",
   "execution_count": 234,
   "id": "9f53c6ba",
   "metadata": {},
   "outputs": [
    {
     "name": "stdout",
     "output_type": "stream",
     "text": [
      "0.6904761904761906\n"
     ]
    }
   ],
   "source": [
    "# 테스트 데이터의 ROC_AUC 구하기\n",
    "print(roc_auc_score(y_test2, y_test2_predicted))"
   ]
  },
  {
   "cell_type": "code",
   "execution_count": 235,
   "id": "8d73a143",
   "metadata": {},
   "outputs": [],
   "source": [
    "# K-최근접 아웃 분류\n",
    "from sklearn.neighbors import KNeighborsClassifier"
   ]
  },
  {
   "cell_type": "code",
   "execution_count": 236,
   "id": "edd92efc",
   "metadata": {},
   "outputs": [],
   "source": [
    "kn_model = KNeighborsClassifier()"
   ]
  },
  {
   "cell_type": "code",
   "execution_count": 237,
   "id": "cfb5c5d7",
   "metadata": {},
   "outputs": [
    {
     "data": {
      "text/plain": [
       "KNeighborsClassifier()"
      ]
     },
     "execution_count": 237,
     "metadata": {},
     "output_type": "execute_result"
    }
   ],
   "source": [
    "kn_model.fit(X_train2, y_train2)"
   ]
  },
  {
   "cell_type": "code",
   "execution_count": 238,
   "id": "7866b1e2",
   "metadata": {},
   "outputs": [],
   "source": [
    "y_test2_predicted = kn_model.predict(X_test2)"
   ]
  },
  {
   "cell_type": "code",
   "execution_count": 239,
   "id": "ee32da05",
   "metadata": {},
   "outputs": [
    {
     "name": "stdout",
     "output_type": "stream",
     "text": [
      "0.5238095238095238\n"
     ]
    }
   ],
   "source": [
    "# 테스트 데이터의 ROC_AUC 구하기\n",
    "print(roc_auc_score(y_test2, y_test2_predicted))"
   ]
  },
  {
   "cell_type": "code",
   "execution_count": 240,
   "id": "98209c9f",
   "metadata": {},
   "outputs": [],
   "source": [
    "# 다층 퍼셉트론 분류\n",
    "from sklearn.neural_network import MLPClassifier"
   ]
  },
  {
   "cell_type": "code",
   "execution_count": 242,
   "id": "fd3bb957",
   "metadata": {},
   "outputs": [],
   "source": [
    "ml_model = MLPClassifier()"
   ]
  },
  {
   "cell_type": "code",
   "execution_count": 243,
   "id": "547d2d06",
   "metadata": {},
   "outputs": [
    {
     "data": {
      "text/plain": [
       "MLPClassifier()"
      ]
     },
     "execution_count": 243,
     "metadata": {},
     "output_type": "execute_result"
    }
   ],
   "source": [
    "ml_model.fit(X_train2, y_train2)"
   ]
  },
  {
   "cell_type": "code",
   "execution_count": 244,
   "id": "8d1f89ef",
   "metadata": {},
   "outputs": [],
   "source": [
    "y_test2_predicted = ml_model.predict(X_test2)"
   ]
  },
  {
   "cell_type": "code",
   "execution_count": 245,
   "id": "6c50027e",
   "metadata": {},
   "outputs": [
    {
     "name": "stdout",
     "output_type": "stream",
     "text": [
      "0.5238095238095238\n"
     ]
    }
   ],
   "source": [
    "# 테스트 데이터의 ROC_AUC 구하기\n",
    "print(roc_auc_score(y_test2, y_test2_predicted))"
   ]
  },
  {
   "cell_type": "code",
   "execution_count": 246,
   "id": "66e5aba8",
   "metadata": {},
   "outputs": [],
   "source": [
    "pd.DataFrame(y_test2_predicted).to_csv('data/12345.csv', index=False)"
   ]
  },
  {
   "cell_type": "code",
   "execution_count": null,
   "id": "235b8d13",
   "metadata": {},
   "outputs": [],
   "source": []
  }
 ],
 "metadata": {
  "kernelspec": {
   "display_name": "Python 3",
   "language": "python",
   "name": "python3"
  },
  "language_info": {
   "codemirror_mode": {
    "name": "ipython",
    "version": 3
   },
   "file_extension": ".py",
   "mimetype": "text/x-python",
   "name": "python",
   "nbconvert_exporter": "python",
   "pygments_lexer": "ipython3",
   "version": "3.8.8"
  }
 },
 "nbformat": 4,
 "nbformat_minor": 5
}
